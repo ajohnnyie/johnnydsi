{
 "cells": [
  {
   "cell_type": "code",
   "execution_count": 2,
   "metadata": {
    "collapsed": true
   },
   "outputs": [],
   "source": [
    "import matplotlib.pyplot as plt\n",
    "import numpy as np\n",
    "import pandas as pd\n",
    "%matplotlib inline\n",
    "\n",
    "import seaborn as sns\n",
    "\n",
    "from sklearn.neighbors import KNeighborsClassifier"
   ]
  },
  {
   "cell_type": "code",
   "execution_count": 4,
   "metadata": {
    "collapsed": false
   },
   "outputs": [],
   "source": [
    "PGA= pd.read_csv('PGA.csv')"
   ]
  },
  {
   "cell_type": "code",
   "execution_count": 6,
   "metadata": {
    "collapsed": false
   },
   "outputs": [
    {
     "data": {
      "text/html": [
       "<div>\n",
       "<table border=\"1\" class=\"dataframe\">\n",
       "  <thead>\n",
       "    <tr style=\"text-align: right;\">\n",
       "      <th></th>\n",
       "      <th>Rankthisweek value</th>\n",
       "      <th>Ranklastweek value</th>\n",
       "      <th>Playername link</th>\n",
       "      <th>Rounds number</th>\n",
       "      <th>Avg number</th>\n",
       "      <th>Total number</th>\n",
       "      <th>Totaldrives number</th>\n",
       "    </tr>\n",
       "  </thead>\n",
       "  <tbody>\n",
       "    <tr>\n",
       "      <th>0</th>\n",
       "      <td>1</td>\n",
       "      <td>1</td>\n",
       "      <td>Tony Finau</td>\n",
       "      <td>69</td>\n",
       "      <td>311.1</td>\n",
       "      <td>40,445</td>\n",
       "      <td>130</td>\n",
       "    </tr>\n",
       "    <tr>\n",
       "      <th>1</th>\n",
       "      <td>2</td>\n",
       "      <td>2</td>\n",
       "      <td>Dustin Johnson</td>\n",
       "      <td>57</td>\n",
       "      <td>310.1</td>\n",
       "      <td>29,771</td>\n",
       "      <td>96</td>\n",
       "    </tr>\n",
       "    <tr>\n",
       "      <th>2</th>\n",
       "      <td>3</td>\n",
       "      <td>3</td>\n",
       "      <td>J.B. Holmes</td>\n",
       "      <td>47</td>\n",
       "      <td>309.9</td>\n",
       "      <td>27,270</td>\n",
       "      <td>88</td>\n",
       "    </tr>\n",
       "    <tr>\n",
       "      <th>3</th>\n",
       "      <td>4</td>\n",
       "      <td>4</td>\n",
       "      <td>Gary Woodland</td>\n",
       "      <td>63</td>\n",
       "      <td>308.2</td>\n",
       "      <td>33,906</td>\n",
       "      <td>110</td>\n",
       "    </tr>\n",
       "    <tr>\n",
       "      <th>4</th>\n",
       "      <td>5</td>\n",
       "      <td>7</td>\n",
       "      <td>Andrew Loupe</td>\n",
       "      <td>61</td>\n",
       "      <td>307.2</td>\n",
       "      <td>37,166</td>\n",
       "      <td>121</td>\n",
       "    </tr>\n",
       "  </tbody>\n",
       "</table>\n",
       "</div>"
      ],
      "text/plain": [
       "  Rankthisweek value Ranklastweek value Playername link  Rounds number  \\\n",
       "0                  1                  1      Tony Finau             69   \n",
       "1                  2                  2  Dustin Johnson             57   \n",
       "2                  3                  3     J.B. Holmes             47   \n",
       "3                  4                  4   Gary Woodland             63   \n",
       "4                  5                  7    Andrew Loupe             61   \n",
       "\n",
       "   Avg number Total number  Totaldrives number  \n",
       "0       311.1       40,445                 130  \n",
       "1       310.1       29,771                  96  \n",
       "2       309.9       27,270                  88  \n",
       "3       308.2       33,906                 110  \n",
       "4       307.2       37,166                 121  "
      ]
     },
     "execution_count": 6,
     "metadata": {},
     "output_type": "execute_result"
    }
   ],
   "source": [
    "PGA.head()"
   ]
  },
  {
   "cell_type": "code",
   "execution_count": null,
   "metadata": {
    "collapsed": true
   },
   "outputs": [],
   "source": []
  }
 ],
 "metadata": {
  "kernelspec": {
   "display_name": "Python 2",
   "language": "python",
   "name": "python2"
  },
  "language_info": {
   "codemirror_mode": {
    "name": "ipython",
    "version": 2
   },
   "file_extension": ".py",
   "mimetype": "text/x-python",
   "name": "python",
   "nbconvert_exporter": "python",
   "pygments_lexer": "ipython2",
   "version": "2.7.11"
  }
 },
 "nbformat": 4,
 "nbformat_minor": 0
}
