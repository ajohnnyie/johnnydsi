{
 "cells": [
  {
   "cell_type": "code",
   "execution_count": 79,
   "metadata": {
    "collapsed": true
   },
   "outputs": [],
   "source": [
    "import os\n",
    "import subprocess\n",
    "import pandas as pd\n",
    "import numpy as np\n",
    "from sklearn.ensemble import RandomForestClassifier\n",
    "from sklearn.ensemble import RandomForestRegressor\n",
    "import scipy\n",
    "import requests\n",
    "from imdbpie import Imdb\n",
    "import nltk\n",
    "import matplotlib.pyplot as plt\n",
    "import urllib\n",
    "from bs4 import BeautifulSoup\n",
    "import nltk\n",
    "import collections\n",
    "import re\n",
    "import csv\n",
    "import psycopg2\n",
    "\n",
    "%matplotlib inline"
   ]
  },
  {
   "cell_type": "code",
   "execution_count": 2,
   "metadata": {
    "collapsed": false
   },
   "outputs": [
    {
     "name": "stdout",
     "output_type": "stream",
     "text": [
      "Requirement already satisfied (use --upgrade to upgrade): imdbpie in /anaconda/lib/python2.7/site-packages\r\n",
      "Requirement already satisfied (use --upgrade to upgrade): six<2.0.0,>=1.0.0 in /anaconda/lib/python2.7/site-packages (from imdbpie)\r\n",
      "Requirement already satisfied (use --upgrade to upgrade): requests>=0.10 in /anaconda/lib/python2.7/site-packages (from imdbpie)\r\n",
      "Requirement already satisfied (use --upgrade to upgrade): cachecontrol[filecache] in /anaconda/lib/python2.7/site-packages (from imdbpie)\r\n",
      "Requirement already satisfied (use --upgrade to upgrade): wheel in /anaconda/lib/python2.7/site-packages (from imdbpie)\r\n",
      "Requirement already satisfied (use --upgrade to upgrade): lockfile>=0.9; extra == \"filecache\" in /anaconda/lib/python2.7/site-packages (from cachecontrol[filecache]->imdbpie)\r\n"
     ]
    }
   ],
   "source": [
    "!pip install imdbpie"
   ]
  },
  {
   "cell_type": "code",
   "execution_count": 80,
   "metadata": {
    "collapsed": false
   },
   "outputs": [],
   "source": [
    "imdb = Imdb()\n",
    "imdb = Imdb(anonymize=True)\n",
    "top250=pd.DataFrame(imdb.top_250())"
   ]
  },
  {
   "cell_type": "code",
   "execution_count": 81,
   "metadata": {
    "collapsed": true
   },
   "outputs": [],
   "source": [
    "top25=top250.iloc[:25,:]\n",
    "del top25[\"image\"]"
   ]
  },
  {
   "cell_type": "code",
   "execution_count": 82,
   "metadata": {
    "collapsed": true
   },
   "outputs": [],
   "source": [
    "movies=top25[\"tconst\"].tolist()\n",
    "\n"
   ]
  },
  {
   "cell_type": "code",
   "execution_count": 83,
   "metadata": {
    "collapsed": false
   },
   "outputs": [],
   "source": [
    "reviewtext = []\n",
    "Id = []\n",
    "for x in movies:\n",
    "    reviews = imdb.get_title_reviews(x, max_results=15)\n",
    "    for review in reviews:\n",
    "        Id.append(x)\n",
    "        reviewtext.append(review.text)\n",
    "        "
   ]
  },
  {
   "cell_type": "code",
   "execution_count": 84,
   "metadata": {
    "collapsed": true
   },
   "outputs": [],
   "source": [
    "movieReviews = pd.DataFrame({\"ID\": Id, \"Reviews\": reviewtext})"
   ]
  },
  {
   "cell_type": "code",
   "execution_count": 85,
   "metadata": {
    "collapsed": true
   },
   "outputs": [],
   "source": [
    "\n",
    "from nltk.tokenize import RegexpTokenizer\n",
    "\n",
    "tokenizer = RegexpTokenizer('\\w+|\\$[\\d\\.]+|\\S+')\n",
    "tokens = [tokenizer.tokenize(i) for i in reviewtext]\n",
    "tag = [nltk.pos_tag(i) for i in tokens]\n",
    "tag\n",
    "\n",
    "#use this to select the words that are adjective\n",
    "adjectives = []\n",
    "for x in (tag):\n",
    "    for a,b in x:\n",
    "        if b == \"JJ\":\n",
    "            adjectives.append(a)\n",
    "        \n",
    "\n",
    "\n",
    "c = collections.Counter\n",
    "count = c(adjectives)\n",
    "mostCommon = [a for a,b in count.most_common(50)]\n"
   ]
  },
  {
   "cell_type": "code",
   "execution_count": 86,
   "metadata": {
    "collapsed": true
   },
   "outputs": [],
   "source": [
    "dfCommon=pd.DataFrame(columns=mostCommon)\n",
    "newDF =movieReviews.join(dfCommon)\n",
    "for c, col in enumerate(newDF.columns[2:]):\n",
    "    for r, row in enumerate(newDF.index):\n",
    "        reviewLower = newDF.loc[row,\"Reviews\"].lower()\n",
    "        if col in reviewLower:\n",
    "            newDF.loc[row,col]=1\n",
    "        else:\n",
    "            newDF.loc[row,col]=0\n"
   ]
  },
  {
   "cell_type": "code",
   "execution_count": 87,
   "metadata": {
    "collapsed": false
   },
   "outputs": [],
   "source": [
    "del newDF[\"Reviews\"]\n"
   ]
  },
  {
   "cell_type": "code",
   "execution_count": 88,
   "metadata": {
    "collapsed": false
   },
   "outputs": [],
   "source": [
    "newDF=newDF.groupby([\"ID\"],group_keys=False,as_index=False).apply(lambda x:x.iloc[:,1:].max())\n",
    "top25=top25.join(newDF)\n"
   ]
  },
  {
   "cell_type": "code",
   "execution_count": 89,
   "metadata": {
    "collapsed": true
   },
   "outputs": [],
   "source": [
    "del top25[\"type\"]"
   ]
  },
  {
   "cell_type": "code",
   "execution_count": 90,
   "metadata": {
    "collapsed": false
   },
   "outputs": [],
   "source": [
    "from sklearn.preprocessing import MinMaxScaler\n",
    "\n",
    "y=top25.rating\n",
    "X=top25.loc[:,\"year\":]\n",
    "X[\"year\"]=MinMaxScaler().fit_transform(X[\"year\"].astype(float).reshape(-1,1))\n"
   ]
  },
  {
   "cell_type": "code",
   "execution_count": null,
   "metadata": {
    "collapsed": true
   },
   "outputs": [],
   "source": []
  },
  {
   "cell_type": "code",
   "execution_count": 91,
   "metadata": {
    "collapsed": false
   },
   "outputs": [
    {
     "data": {
      "text/plain": [
       "-13.05026455026452"
      ]
     },
     "execution_count": 91,
     "metadata": {},
     "output_type": "execute_result"
    }
   ],
   "source": [
    "from sklearn.cross_validation import KFold,cross_val_score\n",
    "from sklearn.tree import DecisionTreeRegressor\n",
    "\n",
    "cv = KFold(len(y), shuffle=False)\n",
    "dt = DecisionTreeRegressor(random_state=5)\n",
    "dtScore = cross_val_score(dt, X, y, cv=cv)\n",
    "dtScore\n",
    "dtScore.mean()"
   ]
  },
  {
   "cell_type": "code",
   "execution_count": 92,
   "metadata": {
    "collapsed": false
   },
   "outputs": [
    {
     "data": {
      "image/png": "[encoded data removed]",
      "text/plain": [
       "<matplotlib.figure.Figure at 0x122a21d10>"
      ]
     },
     "metadata": {},
     "output_type": "display_data"
    }
   ],
   "source": [
    "def doPlot(model, m=None):\n",
    "    for fold, color in zip(cv, [\"r\", \"g\", \"b\"]):\n",
    "        #print fold\n",
    "        X_train = X.iloc[fold[0]]\n",
    "        X_test = X.iloc[fold[1]]\n",
    "        y_train = y.iloc[fold[0]]\n",
    "        y_test = y.iloc[fold[1]]\n",
    "        model.fit(X_train, y_train)\n",
    "        y_pred = model.predict(X_test)\n",
    "        \n",
    "        plt.scatter(y_test, y_pred, color=color)\n",
    "        plt.plot([8.5,9.5],[8.5,9.5])\n",
    "        plt.text(9,9.5, \"Avg Overall Score: \"+str(m), fontsize=12)\n",
    "        #the 9,9.5 represent the location os \"R2: \"\n",
    "    \n",
    "doPlot(dt, dtScore.mean().round(2))"
   ]
  },
  {
   "cell_type": "code",
   "execution_count": 93,
   "metadata": {
    "collapsed": false
   },
   "outputs": [
    {
     "name": "stdout",
     "output_type": "stream",
     "text": [
      "[ -3.73333333  -6.96571429 -15.475     ] [ -3.72222222 -18.42857143 -17.        ]\n",
      "-8.72468253968 -13.0502645503\n"
     ]
    },
    {
     "data": {
      "image/png": "[encoded data removed]",
      "text/plain": [
       "<matplotlib.figure.Figure at 0x11f915ed0>"
      ]
     },
     "metadata": {},
     "output_type": "display_data"
    }
   ],
   "source": [
    "from sklearn.ensemble import RandomForestRegressor, AdaBoostRegressor\n",
    "\n",
    "rf = RandomForestRegressor(random_state=5)\n",
    "rfScore = cross_val_score(rf, X, y, cv=cv, n_jobs=-1)\n",
    "print rfScore, dtScore\n",
    "print rfScore.mean(), dtScore.mean()\n",
    "doPlot(rf, rfScore.mean().round(2))"
   ]
  },
  {
   "cell_type": "code",
   "execution_count": 94,
   "metadata": {
    "collapsed": false
   },
   "outputs": [
    {
     "name": "stdout",
     "output_type": "stream",
     "text": [
      "[ -3.83950617  -8.53332973 -18.15940341] [ -3.73333333  -6.96571429 -15.475     ] [ -3.72222222 -18.42857143 -17.        ]\n",
      "-10.1774131053 -8.72468253968 -13.0502645503\n"
     ]
    },
    {
     "data": {
      "image/png": "[encoded data removed]",
      "text/plain": [
       "<matplotlib.figure.Figure at 0x11b537950>"
      ]
     },
     "metadata": {},
     "output_type": "display_data"
    }
   ],
   "source": [
    "ab = AdaBoostRegressor(random_state=5)\n",
    "\n",
    "abScore = cross_val_score(ab, X, y, cv=cv, n_jobs=-1)\n",
    "print abScore, rfScore, dtScore\n",
    "print abScore.mean(), rfScore.mean(), dtScore.mean()\n",
    "doPlot(ab, abScore.mean().round(2))"
   ]
  },
  {
   "cell_type": "code",
   "execution_count": null,
   "metadata": {
    "collapsed": true
   },
   "outputs": [],
   "source": []
  },
  {
   "cell_type": "code",
   "execution_count": 95,
   "metadata": {
    "collapsed": false
   },
   "outputs": [
    {
     "name": "stdout",
     "output_type": "stream",
     "text": [
      "[ -3.62296997 -15.79236283 -16.02698685] [ -3.83950617  -8.53332973 -18.15940341] [ -3.73333333  -6.96571429 -15.475     ] [ -3.72222222 -18.42857143 -17.        ]\n",
      "-11.8141065504 -10.1774131053 -8.72468253968 -13.0502645503\n"
     ]
    },
    {
     "data": {
      "image/png": "[encoded data removed]",
      "text/plain": [
       "<matplotlib.figure.Figure at 0x11f974e10>"
      ]
     },
     "metadata": {},
     "output_type": "display_data"
    }
   ],
   "source": [
    "from sklearn.ensemble import GradientBoostingRegressor\n",
    "\n",
    "gb = GradientBoostingRegressor(random_state=5)\n",
    "\n",
    "gbScore = cross_val_score(gb, X, y, cv=cv, n_jobs=-1)\n",
    "print gbScore, abScore, rfScore, dtScore\n",
    "print gbScore.mean(), abScore.mean(), rfScore.mean(), dtScore.mean()\n",
    "doPlot(gb, abScore.mean().round(2))"
   ]
  },
  {
   "cell_type": "code",
   "execution_count": null,
   "metadata": {
    "collapsed": true
   },
   "outputs": [],
   "source": []
  },
  {
   "cell_type": "code",
   "execution_count": 96,
   "metadata": {
    "collapsed": true
   },
   "outputs": [],
   "source": [
    "from sklearn.cross_validation import train_test_split\n",
    "X_train, X_test, y_train, y_test = train_test_split(X, y, test_size=0.3, random_state=42)"
   ]
  },
  {
   "cell_type": "code",
   "execution_count": 97,
   "metadata": {
    "collapsed": false
   },
   "outputs": [
    {
     "data": {
      "text/plain": [
       "DecisionTreeRegressor(criterion='mse', max_depth=None, max_features=None,\n",
       "           max_leaf_nodes=None, min_samples_leaf=1, min_samples_split=2,\n",
       "           min_weight_fraction_leaf=0.0, presort=False, random_state=1,\n",
       "           splitter='best')"
      ]
     },
     "execution_count": 97,
     "metadata": {},
     "output_type": "execute_result"
    }
   ],
   "source": [
    "from sklearn.tree import DecisionTreeRegressor\n",
    "treereg = DecisionTreeRegressor(random_state=1)\n",
    "treereg.fit(X_train, y_train)"
   ]
  },
  {
   "cell_type": "code",
   "execution_count": 98,
   "metadata": {
    "collapsed": true
   },
   "outputs": [],
   "source": [
    "preds = treereg.predict(X_test)"
   ]
  },
  {
   "cell_type": "code",
   "execution_count": 99,
   "metadata": {
    "collapsed": false
   },
   "outputs": [
    {
     "data": {
      "text/plain": [
       "[<matplotlib.lines.Line2D at 0x11a48e5d0>]"
      ]
     },
     "execution_count": 99,
     "metadata": {},
     "output_type": "execute_result"
    },
    {
     "data": {
      "image/png": "[encoded data removed]",
      "text/plain": [
       "<matplotlib.figure.Figure at 0x121f7c690>"
      ]
     },
     "metadata": {},
     "output_type": "display_data"
    }
   ],
   "source": [
    "plt.plot(preds)\n",
    "plt.plot(y_test.values)"
   ]
  },
  {
   "cell_type": "code",
   "execution_count": 100,
   "metadata": {
    "collapsed": false
   },
   "outputs": [
    {
     "data": {
      "text/plain": [
       "-0.25000000000000422"
      ]
     },
     "execution_count": 100,
     "metadata": {},
     "output_type": "execute_result"
    }
   ],
   "source": [
    "from sklearn.metrics import r2_score\n",
    "r2_score(y_test, preds)"
   ]
  },
  {
   "cell_type": "code",
   "execution_count": null,
   "metadata": {
    "collapsed": true
   },
   "outputs": [],
   "source": []
  },
  {
   "cell_type": "code",
   "execution_count": null,
   "metadata": {
    "collapsed": true
   },
   "outputs": [],
   "source": []
  },
  {
   "cell_type": "code",
   "execution_count": null,
   "metadata": {
    "collapsed": true
   },
   "outputs": [],
   "source": []
  },
  {
   "cell_type": "code",
   "execution_count": null,
   "metadata": {
    "collapsed": true
   },
   "outputs": [],
   "source": []
  },
  {
   "cell_type": "code",
   "execution_count": null,
   "metadata": {
    "collapsed": false
   },
   "outputs": [],
   "source": []
  },
  {
   "cell_type": "code",
   "execution_count": null,
   "metadata": {
    "collapsed": false
   },
   "outputs": [],
   "source": []
  },
  {
   "cell_type": "code",
   "execution_count": null,
   "metadata": {
    "collapsed": true
   },
   "outputs": [],
   "source": []
  }
 ],
 "metadata": {
  "kernelspec": {
   "display_name": "Python 2",
   "language": "python",
   "name": "python2"
  },
  "language_info": {
   "codemirror_mode": {
    "name": "ipython",
    "version": 2
   },
   "file_extension": ".py",
   "mimetype": "text/x-python",
   "name": "python",
   "nbconvert_exporter": "python",
   "pygments_lexer": "ipython2",
   "version": "2.7.12"
  }
 },
 "nbformat": 4,
 "nbformat_minor": 0
}
