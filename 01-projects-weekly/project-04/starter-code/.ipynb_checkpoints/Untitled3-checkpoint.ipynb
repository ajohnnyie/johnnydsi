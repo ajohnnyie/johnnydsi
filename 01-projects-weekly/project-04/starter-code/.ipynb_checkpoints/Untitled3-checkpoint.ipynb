{
 "cells": [
  {
   "cell_type": "code",
   "execution_count": 8,
   "metadata": {
    "collapsed": false
   },
   "outputs": [
    {
     "data": {
      "text/html": [
       "<div>\n",
       "<table border=\"1\" class=\"dataframe\">\n",
       "  <thead>\n",
       "    <tr style=\"text-align: right;\">\n",
       "      <th></th>\n",
       "      <th>Company Name</th>\n",
       "      <th>Job Summary</th>\n",
       "      <th>Job Title</th>\n",
       "      <th>Location</th>\n",
       "    </tr>\n",
       "  </thead>\n",
       "  <tbody>\n",
       "    <tr>\n",
       "      <th>0</th>\n",
       "      <td>Illinois Technology Association</td>\n",
       "      <td>Grow our real-time internal data intelligence ...</td>\n",
       "      <td>GrubHub - Data Scientist</td>\n",
       "      <td>New York, NY</td>\n",
       "    </tr>\n",
       "    <tr>\n",
       "      <th>1</th>\n",
       "      <td>Amazon Web Services, Inc.</td>\n",
       "      <td>Interested in creating new state-of-the-art so...</td>\n",
       "      <td>Data Scientist - NYC</td>\n",
       "      <td>New York, NY</td>\n",
       "    </tr>\n",
       "    <tr>\n",
       "      <th>2</th>\n",
       "      <td>FactSet</td>\n",
       "      <td>Should be a creative data scientist and be. Sc...</td>\n",
       "      <td>Data Scientist</td>\n",
       "      <td>New York, NY 10279 (Financial District area)</td>\n",
       "    </tr>\n",
       "    <tr>\n",
       "      <th>3</th>\n",
       "      <td>Hudson Data</td>\n",
       "      <td>Hudson Data is a data science solutions firm s...</td>\n",
       "      <td>Data Science Instructor</td>\n",
       "      <td>New York, NY</td>\n",
       "    </tr>\n",
       "    <tr>\n",
       "      <th>4</th>\n",
       "      <td>Komodo Health</td>\n",
       "      <td>Experience working with proprietary secondary ...</td>\n",
       "      <td>Data Scientist</td>\n",
       "      <td>New York, NY</td>\n",
       "    </tr>\n",
       "  </tbody>\n",
       "</table>\n",
       "</div>"
      ],
      "text/plain": [
       "                      Company Name  \\\n",
       "0  Illinois Technology Association   \n",
       "1        Amazon Web Services, Inc.   \n",
       "2                          FactSet   \n",
       "3                      Hudson Data   \n",
       "4                    Komodo Health   \n",
       "\n",
       "                                         Job Summary  \\\n",
       "0  Grow our real-time internal data intelligence ...   \n",
       "1  Interested in creating new state-of-the-art so...   \n",
       "2  Should be a creative data scientist and be. Sc...   \n",
       "3  Hudson Data is a data science solutions firm s...   \n",
       "4  Experience working with proprietary secondary ...   \n",
       "\n",
       "                  Job Title                                      Location  \n",
       "0  GrubHub - Data Scientist                                  New York, NY  \n",
       "1      Data Scientist - NYC                                  New York, NY  \n",
       "2            Data Scientist  New York, NY 10279 (Financial District area)  \n",
       "3   Data Science Instructor                                  New York, NY  \n",
       "4            Data Scientist                                  New York, NY  "
      ]
     },
     "execution_count": 8,
     "metadata": {},
     "output_type": "execute_result"
    }
   ],
   "source": [
    "import pandas as pd\n",
    "import requests\n",
    "import bs4\n",
    "from bs4 import BeautifulSoup\n",
    "import urllib2\n",
    "\n",
    "urlForHigh = \"http://www.indeed.com/jobs?q=data+scientist+%24130%2C000&l=\"\n",
    "\n",
    "\n",
    "page_start_fromH = '&start='    \n",
    "\n",
    "    \n",
    "df2 = pd.DataFrame()   \n",
    "\n",
    " \n",
    "for city in ('New+York%2C+NY', 'Chicago%2C+IL', 'San+Francisco%2C+CA', 'Austin%2C+TX',\n",
    "            \"Atlanta%2C+GA\", \"Los+Angeles%2C+CA\", \"Washington%2C+DC\",\"Denver\",\"Seattle\",\"Austin\",\"Dallas\",\"San+Jose\",\"Boston\",\"Charlotte\" ):\n",
    "    for page in range(1,50): \n",
    "        page = (page-1) * 10  \n",
    "        urlH = \"%s%s%s%d\" % (urlForHigh, city, page_start_fromH, page) \n",
    "        r = requests.get(urlH)\n",
    "        soupH = BeautifulSoup(r.content) \n",
    "\n",
    "        results = soupH.find_all(\"div\", {'class' : ' row result'}) \n",
    "    \n",
    "        for i in range(len(results)):\n",
    "            title    = results[i].find (\"a\", {\"class\": \"turnstileLink\"}).get_text().strip()\n",
    "            company  = results[i].find (\"span\", {\"class\": \"company\"}).get_text().strip()\n",
    "            location = results[i].find (\"span\", {\"class\": \"location\"}).get_text().strip()\n",
    "            summary  = results[i].find (\"span\", {\"class\": \"summary\"}).get_text().strip()        \n",
    "            #salary = results[i].find ().get_text().strip()\n",
    "        \n",
    "            df2 = df2.append({\"Company Name\": company, \"Job Title\": title, \"Location\": location,\n",
    "                            \"Job Summary\": summary}, ignore_index=True)\n",
    "\n",
    "df2.head()"
   ]
  },
  {
   "cell_type": "code",
   "execution_count": 9,
   "metadata": {
    "collapsed": false
   },
   "outputs": [
    {
     "data": {
      "text/plain": [
       "(3876, 4)"
      ]
     },
     "execution_count": 9,
     "metadata": {},
     "output_type": "execute_result"
    }
   ],
   "source": [
    "df2.shape"
   ]
  },
  {
   "cell_type": "code",
   "execution_count": 12,
   "metadata": {
    "collapsed": true
   },
   "outputs": [],
   "source": [
    "df2[\"Salary Class\"]='Low'"
   ]
  },
  {
   "cell_type": "code",
   "execution_count": 13,
   "metadata": {
    "collapsed": false
   },
   "outputs": [
    {
     "data": {
      "text/html": [
       "<div>\n",
       "<table border=\"1\" class=\"dataframe\">\n",
       "  <thead>\n",
       "    <tr style=\"text-align: right;\">\n",
       "      <th></th>\n",
       "      <th>Company Name</th>\n",
       "      <th>Job Summary</th>\n",
       "      <th>Job Title</th>\n",
       "      <th>Location</th>\n",
       "      <th>Salary Class</th>\n",
       "    </tr>\n",
       "  </thead>\n",
       "  <tbody>\n",
       "    <tr>\n",
       "      <th>0</th>\n",
       "      <td>Illinois Technology Association</td>\n",
       "      <td>Grow our real-time internal data intelligence ...</td>\n",
       "      <td>GrubHub - Data Scientist</td>\n",
       "      <td>New York, NY</td>\n",
       "      <td>Low</td>\n",
       "    </tr>\n",
       "    <tr>\n",
       "      <th>1</th>\n",
       "      <td>Amazon Web Services, Inc.</td>\n",
       "      <td>Interested in creating new state-of-the-art so...</td>\n",
       "      <td>Data Scientist - NYC</td>\n",
       "      <td>New York, NY</td>\n",
       "      <td>Low</td>\n",
       "    </tr>\n",
       "    <tr>\n",
       "      <th>2</th>\n",
       "      <td>FactSet</td>\n",
       "      <td>Should be a creative data scientist and be. Sc...</td>\n",
       "      <td>Data Scientist</td>\n",
       "      <td>New York, NY 10279 (Financial District area)</td>\n",
       "      <td>Low</td>\n",
       "    </tr>\n",
       "    <tr>\n",
       "      <th>3</th>\n",
       "      <td>Hudson Data</td>\n",
       "      <td>Hudson Data is a data science solutions firm s...</td>\n",
       "      <td>Data Science Instructor</td>\n",
       "      <td>New York, NY</td>\n",
       "      <td>Low</td>\n",
       "    </tr>\n",
       "    <tr>\n",
       "      <th>4</th>\n",
       "      <td>Komodo Health</td>\n",
       "      <td>Experience working with proprietary secondary ...</td>\n",
       "      <td>Data Scientist</td>\n",
       "      <td>New York, NY</td>\n",
       "      <td>Low</td>\n",
       "    </tr>\n",
       "  </tbody>\n",
       "</table>\n",
       "</div>"
      ],
      "text/plain": [
       "                      Company Name  \\\n",
       "0  Illinois Technology Association   \n",
       "1        Amazon Web Services, Inc.   \n",
       "2                          FactSet   \n",
       "3                      Hudson Data   \n",
       "4                    Komodo Health   \n",
       "\n",
       "                                         Job Summary  \\\n",
       "0  Grow our real-time internal data intelligence ...   \n",
       "1  Interested in creating new state-of-the-art so...   \n",
       "2  Should be a creative data scientist and be. Sc...   \n",
       "3  Hudson Data is a data science solutions firm s...   \n",
       "4  Experience working with proprietary secondary ...   \n",
       "\n",
       "                  Job Title                                      Location  \\\n",
       "0  GrubHub - Data Scientist                                  New York, NY   \n",
       "1      Data Scientist - NYC                                  New York, NY   \n",
       "2            Data Scientist  New York, NY 10279 (Financial District area)   \n",
       "3   Data Science Instructor                                  New York, NY   \n",
       "4            Data Scientist                                  New York, NY   \n",
       "\n",
       "  Salary Class  \n",
       "0          Low  \n",
       "1          Low  \n",
       "2          Low  \n",
       "3          Low  \n",
       "4          Low  "
      ]
     },
     "execution_count": 13,
     "metadata": {},
     "output_type": "execute_result"
    }
   ],
   "source": [
    "df2.head()\n"
   ]
  },
  {
   "cell_type": "code",
   "execution_count": null,
   "metadata": {
    "collapsed": true
   },
   "outputs": [],
   "source": []
  }
 ],
 "metadata": {
  "kernelspec": {
   "display_name": "Python 2",
   "language": "python",
   "name": "python2"
  },
  "language_info": {
   "codemirror_mode": {
    "name": "ipython",
    "version": 2
   },
   "file_extension": ".py",
   "mimetype": "text/x-python",
   "name": "python",
   "nbconvert_exporter": "python",
   "pygments_lexer": "ipython2",
   "version": "2.7.11"
  }
 },
 "nbformat": 4,
 "nbformat_minor": 0
}
