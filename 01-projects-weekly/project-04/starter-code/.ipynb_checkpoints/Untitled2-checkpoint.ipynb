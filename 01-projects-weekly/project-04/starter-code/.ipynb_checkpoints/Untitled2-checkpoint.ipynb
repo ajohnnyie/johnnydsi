{
 "cells": [
  {
   "cell_type": "code",
   "execution_count": 15,
   "metadata": {
    "collapsed": false
   },
   "outputs": [
    {
     "data": {
      "text/html": [
       "<div>\n",
       "<table border=\"1\" class=\"dataframe\">\n",
       "  <thead>\n",
       "    <tr style=\"text-align: right;\">\n",
       "      <th></th>\n",
       "      <th>Company Name</th>\n",
       "      <th>Job Summary</th>\n",
       "      <th>Job Title</th>\n",
       "      <th>Location</th>\n",
       "    </tr>\n",
       "  </thead>\n",
       "  <tbody>\n",
       "    <tr>\n",
       "      <th>0</th>\n",
       "      <td>Memorial Sloan Kettering Cancer Center</td>\n",
       "      <td>Working together with members in the group, th...</td>\n",
       "      <td>Bioinformatics Data Scientist - Cancer Genomic...</td>\n",
       "      <td>New York, NY 10065 (Upper East Side area)</td>\n",
       "    </tr>\n",
       "    <tr>\n",
       "      <th>1</th>\n",
       "      <td>eTemp</td>\n",
       "      <td>High growth company focused on using data scie...</td>\n",
       "      <td>Mid - Senior Level Data Scientist</td>\n",
       "      <td>New York, NY</td>\n",
       "    </tr>\n",
       "    <tr>\n",
       "      <th>2</th>\n",
       "      <td>Comcast</td>\n",
       "      <td>Visible World is the leading provider of targe...</td>\n",
       "      <td>Data Scientist</td>\n",
       "      <td>New York, NY</td>\n",
       "    </tr>\n",
       "    <tr>\n",
       "      <th>3</th>\n",
       "      <td>Samsung Accelerator</td>\n",
       "      <td>Solid foundation in data structures, algorithm...</td>\n",
       "      <td>Machine Learning Engineer</td>\n",
       "      <td>New York, NY</td>\n",
       "    </tr>\n",
       "    <tr>\n",
       "      <th>4</th>\n",
       "      <td>DataKind</td>\n",
       "      <td>A mid-career data scientist - You have a succe...</td>\n",
       "      <td>Data Scientist</td>\n",
       "      <td>New York, NY</td>\n",
       "    </tr>\n",
       "  </tbody>\n",
       "</table>\n",
       "</div>"
      ],
      "text/plain": [
       "                             Company Name  \\\n",
       "0  Memorial Sloan Kettering Cancer Center   \n",
       "1                                   eTemp   \n",
       "2                                 Comcast   \n",
       "3                     Samsung Accelerator   \n",
       "4                                DataKind   \n",
       "\n",
       "                                         Job Summary  \\\n",
       "0  Working together with members in the group, th...   \n",
       "1  High growth company focused on using data scie...   \n",
       "2  Visible World is the leading provider of targe...   \n",
       "3  Solid foundation in data structures, algorithm...   \n",
       "4  A mid-career data scientist - You have a succe...   \n",
       "\n",
       "                                           Job Title  \\\n",
       "0  Bioinformatics Data Scientist - Cancer Genomic...   \n",
       "1                  Mid - Senior Level Data Scientist   \n",
       "2                                     Data Scientist   \n",
       "3                          Machine Learning Engineer   \n",
       "4                                     Data Scientist   \n",
       "\n",
       "                                    Location  \n",
       "0  New York, NY 10065 (Upper East Side area)  \n",
       "1                               New York, NY  \n",
       "2                               New York, NY  \n",
       "3                               New York, NY  \n",
       "4                               New York, NY  "
      ]
     },
     "execution_count": 15,
     "metadata": {},
     "output_type": "execute_result"
    }
   ],
   "source": [
    "import pandas as pd\n",
    "import requests\n",
    "import bs4\n",
    "from bs4 import BeautifulSoup\n",
    "import urllib2\n",
    "\n",
    "urlForLow = \"http://www.indeed.com/jobs?q=data+scientist+%2420%2C000&l=\"\n",
    "\n",
    "\n",
    "page_start_from = '&start='    \n",
    "\n",
    "    \n",
    "df1 = pd.DataFrame()   \n",
    "\n",
    " \n",
    "for city in ('New+York%2C+NY', 'Chicago%2C+IL', 'San+Francisco%2C+CA', 'Austin%2C+TX',\n",
    "            \"Atlanta%2C+GA\", \"Los+Angeles%2C+CA\", \"Washington%2C+DC\",\"Denver\",\"Seattle\",\"Austin\",\"Dallas\",\"San+Jose\",\"Boston\",\"Charlotte\" ):\n",
    "    for page in range(1,21): \n",
    "        page = (page-1) * 10  \n",
    "        url = \"%s%s%s%d\" % (LINK, city, page_start_from, page) \n",
    "        r = requests.get(url)\n",
    "        soup = BeautifulSoup(r.content) \n",
    "\n",
    "        results = soup.find_all(\"div\", {'class' : ' row result'}) \n",
    "    \n",
    "        for i in range(len(results)):\n",
    "            title    = results[i].find (\"a\", {\"class\": \"turnstileLink\"}).get_text().strip()\n",
    "            company  = results[i].find (\"span\", {\"class\": \"company\"}).get_text().strip()\n",
    "            location = results[i].find (\"span\", {\"class\": \"location\"}).get_text().strip()\n",
    "            summary  = results[i].find (\"span\", {\"class\": \"summary\"}).get_text().strip()        \n",
    "            #salary = results[i].find ().get_text().strip()\n",
    "        \n",
    "            df1 = df1.append({\"Company Name\": company, \"Job Title\": title, \"Location\": location,\n",
    "                            \"Job Summary\": summary}, ignore_index=True)\n",
    "\n",
    "df1.head()"
   ]
  },
  {
   "cell_type": "code",
   "execution_count": 16,
   "metadata": {
    "collapsed": false
   },
   "outputs": [
    {
     "data": {
      "text/plain": [
       "(2404, 4)"
      ]
     },
     "execution_count": 16,
     "metadata": {},
     "output_type": "execute_result"
    }
   ],
   "source": [
    "df1.shape"
   ]
  },
  {
   "cell_type": "code",
   "execution_count": 17,
   "metadata": {
    "collapsed": true
   },
   "outputs": [],
   "source": [
    "df1[\"Salary Class\"]=\"High\""
   ]
  },
  {
   "cell_type": "code",
   "execution_count": 18,
   "metadata": {
    "collapsed": false
   },
   "outputs": [
    {
     "data": {
      "text/html": [
       "<div>\n",
       "<table border=\"1\" class=\"dataframe\">\n",
       "  <thead>\n",
       "    <tr style=\"text-align: right;\">\n",
       "      <th></th>\n",
       "      <th>Company Name</th>\n",
       "      <th>Job Summary</th>\n",
       "      <th>Job Title</th>\n",
       "      <th>Location</th>\n",
       "      <th>Salary Class</th>\n",
       "    </tr>\n",
       "  </thead>\n",
       "  <tbody>\n",
       "    <tr>\n",
       "      <th>0</th>\n",
       "      <td>Memorial Sloan Kettering Cancer Center</td>\n",
       "      <td>Working together with members in the group, th...</td>\n",
       "      <td>Bioinformatics Data Scientist - Cancer Genomic...</td>\n",
       "      <td>New York, NY 10065 (Upper East Side area)</td>\n",
       "      <td>High</td>\n",
       "    </tr>\n",
       "    <tr>\n",
       "      <th>1</th>\n",
       "      <td>eTemp</td>\n",
       "      <td>High growth company focused on using data scie...</td>\n",
       "      <td>Mid - Senior Level Data Scientist</td>\n",
       "      <td>New York, NY</td>\n",
       "      <td>High</td>\n",
       "    </tr>\n",
       "    <tr>\n",
       "      <th>2</th>\n",
       "      <td>Comcast</td>\n",
       "      <td>Visible World is the leading provider of targe...</td>\n",
       "      <td>Data Scientist</td>\n",
       "      <td>New York, NY</td>\n",
       "      <td>High</td>\n",
       "    </tr>\n",
       "    <tr>\n",
       "      <th>3</th>\n",
       "      <td>Samsung Accelerator</td>\n",
       "      <td>Solid foundation in data structures, algorithm...</td>\n",
       "      <td>Machine Learning Engineer</td>\n",
       "      <td>New York, NY</td>\n",
       "      <td>High</td>\n",
       "    </tr>\n",
       "    <tr>\n",
       "      <th>4</th>\n",
       "      <td>DataKind</td>\n",
       "      <td>A mid-career data scientist - You have a succe...</td>\n",
       "      <td>Data Scientist</td>\n",
       "      <td>New York, NY</td>\n",
       "      <td>High</td>\n",
       "    </tr>\n",
       "  </tbody>\n",
       "</table>\n",
       "</div>"
      ],
      "text/plain": [
       "                             Company Name  \\\n",
       "0  Memorial Sloan Kettering Cancer Center   \n",
       "1                                   eTemp   \n",
       "2                                 Comcast   \n",
       "3                     Samsung Accelerator   \n",
       "4                                DataKind   \n",
       "\n",
       "                                         Job Summary  \\\n",
       "0  Working together with members in the group, th...   \n",
       "1  High growth company focused on using data scie...   \n",
       "2  Visible World is the leading provider of targe...   \n",
       "3  Solid foundation in data structures, algorithm...   \n",
       "4  A mid-career data scientist - You have a succe...   \n",
       "\n",
       "                                           Job Title  \\\n",
       "0  Bioinformatics Data Scientist - Cancer Genomic...   \n",
       "1                  Mid - Senior Level Data Scientist   \n",
       "2                                     Data Scientist   \n",
       "3                          Machine Learning Engineer   \n",
       "4                                     Data Scientist   \n",
       "\n",
       "                                    Location Salary Class  \n",
       "0  New York, NY 10065 (Upper East Side area)         High  \n",
       "1                               New York, NY         High  \n",
       "2                               New York, NY         High  \n",
       "3                               New York, NY         High  \n",
       "4                               New York, NY         High  "
      ]
     },
     "execution_count": 18,
     "metadata": {},
     "output_type": "execute_result"
    }
   ],
   "source": [
    "df1.head()"
   ]
  },
  {
   "cell_type": "code",
   "execution_count": null,
   "metadata": {
    "collapsed": true
   },
   "outputs": [],
   "source": []
  }
 ],
 "metadata": {
  "kernelspec": {
   "display_name": "Python 2",
   "language": "python",
   "name": "python2"
  },
  "language_info": {
   "codemirror_mode": {
    "name": "ipython",
    "version": 2
   },
   "file_extension": ".py",
   "mimetype": "text/x-python",
   "name": "python",
   "nbconvert_exporter": "python",
   "pygments_lexer": "ipython2",
   "version": "2.7.11"
  }
 },
 "nbformat": 4,
 "nbformat_minor": 0
}
