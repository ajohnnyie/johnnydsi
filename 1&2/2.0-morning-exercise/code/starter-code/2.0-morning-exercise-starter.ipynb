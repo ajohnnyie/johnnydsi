{
 "cells": [
  {
   "cell_type": "code",
   "execution_count": 1,
   "metadata": {
    "collapsed": true
   },
   "outputs": [],
   "source": [
    "import pandas as pd\n",
    "import numpy as np"
   ]
  },
  {
   "cell_type": "code",
   "execution_count": 2,
   "metadata": {
    "collapsed": true
   },
   "outputs": [],
   "source": [
    "def read_csv(path): return pd.read_csv( path, sep = ',' )    "
   ]
  },
  {
   "cell_type": "code",
   "execution_count": 9,
   "metadata": {
    "collapsed": false
   },
   "outputs": [
    {
     "data": {
      "text/html": [
       "<div>\n",
       "<table border=\"1\" class=\"dataframe\">\n",
       "  <thead>\n",
       "    <tr style=\"text-align: right;\">\n",
       "      <th></th>\n",
       "      <th>Unnamed: 0</th>\n",
       "      <th>Hair</th>\n",
       "      <th>Eye</th>\n",
       "      <th>Sex</th>\n",
       "      <th>Freq</th>\n",
       "    </tr>\n",
       "  </thead>\n",
       "  <tbody>\n",
       "    <tr>\n",
       "      <th>0</th>\n",
       "      <td>1</td>\n",
       "      <td>Black</td>\n",
       "      <td>Brown</td>\n",
       "      <td>Male</td>\n",
       "      <td>32</td>\n",
       "    </tr>\n",
       "    <tr>\n",
       "      <th>1</th>\n",
       "      <td>2</td>\n",
       "      <td>Brown</td>\n",
       "      <td>Brown</td>\n",
       "      <td>Male</td>\n",
       "      <td>53</td>\n",
       "    </tr>\n",
       "    <tr>\n",
       "      <th>2</th>\n",
       "      <td>3</td>\n",
       "      <td>Red</td>\n",
       "      <td>Brown</td>\n",
       "      <td>Male</td>\n",
       "      <td>10</td>\n",
       "    </tr>\n",
       "    <tr>\n",
       "      <th>3</th>\n",
       "      <td>4</td>\n",
       "      <td>Blond</td>\n",
       "      <td>Brown</td>\n",
       "      <td>Male</td>\n",
       "      <td>3</td>\n",
       "    </tr>\n",
       "    <tr>\n",
       "      <th>4</th>\n",
       "      <td>5</td>\n",
       "      <td>Black</td>\n",
       "      <td>Blue</td>\n",
       "      <td>Male</td>\n",
       "      <td>11</td>\n",
       "    </tr>\n",
       "  </tbody>\n",
       "</table>\n",
       "</div>"
      ],
      "text/plain": [
       "   Unnamed: 0   Hair    Eye   Sex  Freq\n",
       "0           1  Black  Brown  Male    32\n",
       "1           2  Brown  Brown  Male    53\n",
       "2           3    Red  Brown  Male    10\n",
       "3           4  Blond  Brown  Male     3\n",
       "4           5  Black   Blue  Male    11"
      ]
     },
     "execution_count": 9,
     "metadata": {},
     "output_type": "execute_result"
    }
   ],
   "source": [
    "# This dataset is a list of student attributes in a school, Hair, Eye, Sex\n",
    "# and the Freq, or the total number of students with those attributes\n",
    "\n",
    "path = \"../../assets/HairEyeColor.csv\" # relative path\n",
    "df = read_csv(path) # calls read_csv function given path\n",
    "df.head()"
   ]
  },
  {
   "cell_type": "code",
   "execution_count": 50,
   "metadata": {
    "collapsed": false
   },
   "outputs": [
    {
     "data": {
      "text/plain": [
       "Hair    object\n",
       "Eye     object\n",
       "Sex     object\n",
       "Freq     int64\n",
       "dtype: object"
      ]
     },
     "execution_count": 50,
     "metadata": {},
     "output_type": "execute_result"
    }
   ],
   "source": [
    "# What are the datatypes for the df?\n",
    "df.dtypes"
   ]
  },
  {
   "cell_type": "code",
   "execution_count": 74,
   "metadata": {
    "collapsed": false
   },
   "outputs": [
    {
     "data": {
      "text/plain": [
       "array(['Hair', 'Eye', 'Sex', 'Freq'], dtype=object)"
      ]
     },
     "execution_count": 74,
     "metadata": {},
     "output_type": "execute_result"
    }
   ],
   "source": [
    "# create a variable called columns that will have a list of all dataframe column namesc\n",
    "#col= df.columns.variable()\n",
    "columnNames=df.columns.values\n",
    "columnNames"
   ]
  },
  {
   "cell_type": "code",
   "execution_count": 20,
   "metadata": {
    "collapsed": false
   },
   "outputs": [
    {
     "data": {
      "text/html": [
       "<div>\n",
       "<table border=\"1\" class=\"dataframe\">\n",
       "  <thead>\n",
       "    <tr style=\"text-align: right;\">\n",
       "      <th></th>\n",
       "      <th>Hair</th>\n",
       "      <th>Eye</th>\n",
       "      <th>Sex</th>\n",
       "      <th>Freq</th>\n",
       "    </tr>\n",
       "  </thead>\n",
       "  <tbody>\n",
       "    <tr>\n",
       "      <th>0</th>\n",
       "      <td>Black</td>\n",
       "      <td>Brown</td>\n",
       "      <td>Male</td>\n",
       "      <td>32</td>\n",
       "    </tr>\n",
       "    <tr>\n",
       "      <th>1</th>\n",
       "      <td>Brown</td>\n",
       "      <td>Brown</td>\n",
       "      <td>Male</td>\n",
       "      <td>53</td>\n",
       "    </tr>\n",
       "    <tr>\n",
       "      <th>2</th>\n",
       "      <td>Red</td>\n",
       "      <td>Brown</td>\n",
       "      <td>Male</td>\n",
       "      <td>10</td>\n",
       "    </tr>\n",
       "    <tr>\n",
       "      <th>3</th>\n",
       "      <td>Blond</td>\n",
       "      <td>Brown</td>\n",
       "      <td>Male</td>\n",
       "      <td>3</td>\n",
       "    </tr>\n",
       "    <tr>\n",
       "      <th>4</th>\n",
       "      <td>Black</td>\n",
       "      <td>Blue</td>\n",
       "      <td>Male</td>\n",
       "      <td>11</td>\n",
       "    </tr>\n",
       "  </tbody>\n",
       "</table>\n",
       "</div>"
      ],
      "text/plain": [
       "    Hair    Eye   Sex  Freq\n",
       "0  Black  Brown  Male    32\n",
       "1  Brown  Brown  Male    53\n",
       "2    Red  Brown  Male    10\n",
       "3  Blond  Brown  Male     3\n",
       "4  Black   Blue  Male    11"
      ]
     },
     "execution_count": 20,
     "metadata": {},
     "output_type": "execute_result"
    }
   ],
   "source": [
    "# Drop the Column Named 'Unnamed: 0' from df\n",
    "# Hint: If your column variable is a list, you can slice by index to access elements\n",
    "df = df.drop('Unnamed: 0', 1)\n",
    "df.head()"
   ]
  },
  {
   "cell_type": "code",
   "execution_count": 67,
   "metadata": {
    "collapsed": false
   },
   "outputs": [],
   "source": [
    "# Show that the Column 'Unnamed: 0' has actually been removed\n",
    "list1=df.columns.values"
   ]
  },
  {
   "cell_type": "code",
   "execution_count": 22,
   "metadata": {
    "collapsed": false
   },
   "outputs": [
    {
     "data": {
      "text/html": [
       "<div>\n",
       "<table border=\"1\" class=\"dataframe\">\n",
       "  <thead>\n",
       "    <tr style=\"text-align: right;\">\n",
       "      <th></th>\n",
       "      <th>Hair</th>\n",
       "      <th>Eye</th>\n",
       "      <th>Sex</th>\n",
       "      <th>Freq</th>\n",
       "    </tr>\n",
       "  </thead>\n",
       "  <tbody>\n",
       "    <tr>\n",
       "      <th>0</th>\n",
       "      <td>False</td>\n",
       "      <td>False</td>\n",
       "      <td>False</td>\n",
       "      <td>False</td>\n",
       "    </tr>\n",
       "    <tr>\n",
       "      <th>1</th>\n",
       "      <td>False</td>\n",
       "      <td>False</td>\n",
       "      <td>False</td>\n",
       "      <td>False</td>\n",
       "    </tr>\n",
       "    <tr>\n",
       "      <th>2</th>\n",
       "      <td>False</td>\n",
       "      <td>False</td>\n",
       "      <td>False</td>\n",
       "      <td>False</td>\n",
       "    </tr>\n",
       "    <tr>\n",
       "      <th>3</th>\n",
       "      <td>False</td>\n",
       "      <td>False</td>\n",
       "      <td>False</td>\n",
       "      <td>False</td>\n",
       "    </tr>\n",
       "    <tr>\n",
       "      <th>4</th>\n",
       "      <td>False</td>\n",
       "      <td>False</td>\n",
       "      <td>False</td>\n",
       "      <td>False</td>\n",
       "    </tr>\n",
       "    <tr>\n",
       "      <th>5</th>\n",
       "      <td>False</td>\n",
       "      <td>False</td>\n",
       "      <td>False</td>\n",
       "      <td>False</td>\n",
       "    </tr>\n",
       "    <tr>\n",
       "      <th>6</th>\n",
       "      <td>False</td>\n",
       "      <td>False</td>\n",
       "      <td>False</td>\n",
       "      <td>False</td>\n",
       "    </tr>\n",
       "    <tr>\n",
       "      <th>7</th>\n",
       "      <td>False</td>\n",
       "      <td>False</td>\n",
       "      <td>False</td>\n",
       "      <td>False</td>\n",
       "    </tr>\n",
       "    <tr>\n",
       "      <th>8</th>\n",
       "      <td>False</td>\n",
       "      <td>False</td>\n",
       "      <td>False</td>\n",
       "      <td>False</td>\n",
       "    </tr>\n",
       "    <tr>\n",
       "      <th>9</th>\n",
       "      <td>False</td>\n",
       "      <td>False</td>\n",
       "      <td>False</td>\n",
       "      <td>False</td>\n",
       "    </tr>\n",
       "    <tr>\n",
       "      <th>10</th>\n",
       "      <td>False</td>\n",
       "      <td>False</td>\n",
       "      <td>False</td>\n",
       "      <td>False</td>\n",
       "    </tr>\n",
       "    <tr>\n",
       "      <th>11</th>\n",
       "      <td>False</td>\n",
       "      <td>False</td>\n",
       "      <td>False</td>\n",
       "      <td>False</td>\n",
       "    </tr>\n",
       "    <tr>\n",
       "      <th>12</th>\n",
       "      <td>False</td>\n",
       "      <td>False</td>\n",
       "      <td>False</td>\n",
       "      <td>False</td>\n",
       "    </tr>\n",
       "    <tr>\n",
       "      <th>13</th>\n",
       "      <td>False</td>\n",
       "      <td>False</td>\n",
       "      <td>False</td>\n",
       "      <td>False</td>\n",
       "    </tr>\n",
       "    <tr>\n",
       "      <th>14</th>\n",
       "      <td>False</td>\n",
       "      <td>False</td>\n",
       "      <td>False</td>\n",
       "      <td>False</td>\n",
       "    </tr>\n",
       "    <tr>\n",
       "      <th>15</th>\n",
       "      <td>False</td>\n",
       "      <td>False</td>\n",
       "      <td>False</td>\n",
       "      <td>False</td>\n",
       "    </tr>\n",
       "    <tr>\n",
       "      <th>16</th>\n",
       "      <td>False</td>\n",
       "      <td>False</td>\n",
       "      <td>False</td>\n",
       "      <td>False</td>\n",
       "    </tr>\n",
       "    <tr>\n",
       "      <th>17</th>\n",
       "      <td>False</td>\n",
       "      <td>False</td>\n",
       "      <td>False</td>\n",
       "      <td>False</td>\n",
       "    </tr>\n",
       "    <tr>\n",
       "      <th>18</th>\n",
       "      <td>False</td>\n",
       "      <td>False</td>\n",
       "      <td>False</td>\n",
       "      <td>False</td>\n",
       "    </tr>\n",
       "    <tr>\n",
       "      <th>19</th>\n",
       "      <td>False</td>\n",
       "      <td>False</td>\n",
       "      <td>False</td>\n",
       "      <td>False</td>\n",
       "    </tr>\n",
       "    <tr>\n",
       "      <th>20</th>\n",
       "      <td>False</td>\n",
       "      <td>False</td>\n",
       "      <td>False</td>\n",
       "      <td>False</td>\n",
       "    </tr>\n",
       "    <tr>\n",
       "      <th>21</th>\n",
       "      <td>False</td>\n",
       "      <td>False</td>\n",
       "      <td>False</td>\n",
       "      <td>False</td>\n",
       "    </tr>\n",
       "    <tr>\n",
       "      <th>22</th>\n",
       "      <td>False</td>\n",
       "      <td>False</td>\n",
       "      <td>False</td>\n",
       "      <td>False</td>\n",
       "    </tr>\n",
       "    <tr>\n",
       "      <th>23</th>\n",
       "      <td>False</td>\n",
       "      <td>False</td>\n",
       "      <td>False</td>\n",
       "      <td>False</td>\n",
       "    </tr>\n",
       "    <tr>\n",
       "      <th>24</th>\n",
       "      <td>False</td>\n",
       "      <td>False</td>\n",
       "      <td>False</td>\n",
       "      <td>False</td>\n",
       "    </tr>\n",
       "    <tr>\n",
       "      <th>25</th>\n",
       "      <td>False</td>\n",
       "      <td>False</td>\n",
       "      <td>False</td>\n",
       "      <td>False</td>\n",
       "    </tr>\n",
       "    <tr>\n",
       "      <th>26</th>\n",
       "      <td>False</td>\n",
       "      <td>False</td>\n",
       "      <td>False</td>\n",
       "      <td>False</td>\n",
       "    </tr>\n",
       "    <tr>\n",
       "      <th>27</th>\n",
       "      <td>False</td>\n",
       "      <td>False</td>\n",
       "      <td>False</td>\n",
       "      <td>False</td>\n",
       "    </tr>\n",
       "    <tr>\n",
       "      <th>28</th>\n",
       "      <td>False</td>\n",
       "      <td>False</td>\n",
       "      <td>False</td>\n",
       "      <td>False</td>\n",
       "    </tr>\n",
       "    <tr>\n",
       "      <th>29</th>\n",
       "      <td>False</td>\n",
       "      <td>False</td>\n",
       "      <td>False</td>\n",
       "      <td>False</td>\n",
       "    </tr>\n",
       "    <tr>\n",
       "      <th>30</th>\n",
       "      <td>False</td>\n",
       "      <td>False</td>\n",
       "      <td>False</td>\n",
       "      <td>False</td>\n",
       "    </tr>\n",
       "    <tr>\n",
       "      <th>31</th>\n",
       "      <td>False</td>\n",
       "      <td>False</td>\n",
       "      <td>False</td>\n",
       "      <td>False</td>\n",
       "    </tr>\n",
       "  </tbody>\n",
       "</table>\n",
       "</div>"
      ],
      "text/plain": [
       "     Hair    Eye    Sex   Freq\n",
       "0   False  False  False  False\n",
       "1   False  False  False  False\n",
       "2   False  False  False  False\n",
       "3   False  False  False  False\n",
       "4   False  False  False  False\n",
       "5   False  False  False  False\n",
       "6   False  False  False  False\n",
       "7   False  False  False  False\n",
       "8   False  False  False  False\n",
       "9   False  False  False  False\n",
       "10  False  False  False  False\n",
       "11  False  False  False  False\n",
       "12  False  False  False  False\n",
       "13  False  False  False  False\n",
       "14  False  False  False  False\n",
       "15  False  False  False  False\n",
       "16  False  False  False  False\n",
       "17  False  False  False  False\n",
       "18  False  False  False  False\n",
       "19  False  False  False  False\n",
       "20  False  False  False  False\n",
       "21  False  False  False  False\n",
       "22  False  False  False  False\n",
       "23  False  False  False  False\n",
       "24  False  False  False  False\n",
       "25  False  False  False  False\n",
       "26  False  False  False  False\n",
       "27  False  False  False  False\n",
       "28  False  False  False  False\n",
       "29  False  False  False  False\n",
       "30  False  False  False  False\n",
       "31  False  False  False  False"
      ]
     },
     "execution_count": 22,
     "metadata": {},
     "output_type": "execute_result"
    }
   ],
   "source": [
    "# Are there any null or empty values in df? \n",
    "df.isnull()"
   ]
  },
  {
   "cell_type": "code",
   "execution_count": 23,
   "metadata": {
    "collapsed": false
   },
   "outputs": [
    {
     "data": {
      "text/plain": [
       "32"
      ]
     },
     "execution_count": 23,
     "metadata": {},
     "output_type": "execute_result"
    }
   ],
   "source": [
    "# How many rows are in df? \n",
    "len(df)"
   ]
  },
  {
   "cell_type": "code",
   "execution_count": 24,
   "metadata": {
    "collapsed": false
   },
   "outputs": [
    {
     "data": {
      "text/html": [
       "<div>\n",
       "<table border=\"1\" class=\"dataframe\">\n",
       "  <thead>\n",
       "    <tr style=\"text-align: right;\">\n",
       "      <th></th>\n",
       "      <th>Hair</th>\n",
       "      <th>Eye</th>\n",
       "      <th>Sex</th>\n",
       "      <th>Freq</th>\n",
       "    </tr>\n",
       "  </thead>\n",
       "  <tbody>\n",
       "    <tr>\n",
       "      <th>0</th>\n",
       "      <td>Black</td>\n",
       "      <td>Brown</td>\n",
       "      <td>Male</td>\n",
       "      <td>32</td>\n",
       "    </tr>\n",
       "    <tr>\n",
       "      <th>1</th>\n",
       "      <td>Brown</td>\n",
       "      <td>Brown</td>\n",
       "      <td>Male</td>\n",
       "      <td>53</td>\n",
       "    </tr>\n",
       "    <tr>\n",
       "      <th>2</th>\n",
       "      <td>Red</td>\n",
       "      <td>Brown</td>\n",
       "      <td>Male</td>\n",
       "      <td>10</td>\n",
       "    </tr>\n",
       "    <tr>\n",
       "      <th>3</th>\n",
       "      <td>Blond</td>\n",
       "      <td>Brown</td>\n",
       "      <td>Male</td>\n",
       "      <td>3</td>\n",
       "    </tr>\n",
       "    <tr>\n",
       "      <th>4</th>\n",
       "      <td>Black</td>\n",
       "      <td>Blue</td>\n",
       "      <td>Male</td>\n",
       "      <td>11</td>\n",
       "    </tr>\n",
       "    <tr>\n",
       "      <th>5</th>\n",
       "      <td>Brown</td>\n",
       "      <td>Blue</td>\n",
       "      <td>Male</td>\n",
       "      <td>50</td>\n",
       "    </tr>\n",
       "    <tr>\n",
       "      <th>6</th>\n",
       "      <td>Red</td>\n",
       "      <td>Blue</td>\n",
       "      <td>Male</td>\n",
       "      <td>10</td>\n",
       "    </tr>\n",
       "    <tr>\n",
       "      <th>7</th>\n",
       "      <td>Blond</td>\n",
       "      <td>Blue</td>\n",
       "      <td>Male</td>\n",
       "      <td>30</td>\n",
       "    </tr>\n",
       "    <tr>\n",
       "      <th>8</th>\n",
       "      <td>Black</td>\n",
       "      <td>Hazel</td>\n",
       "      <td>Male</td>\n",
       "      <td>10</td>\n",
       "    </tr>\n",
       "    <tr>\n",
       "      <th>9</th>\n",
       "      <td>Brown</td>\n",
       "      <td>Hazel</td>\n",
       "      <td>Male</td>\n",
       "      <td>25</td>\n",
       "    </tr>\n",
       "    <tr>\n",
       "      <th>10</th>\n",
       "      <td>Red</td>\n",
       "      <td>Hazel</td>\n",
       "      <td>Male</td>\n",
       "      <td>7</td>\n",
       "    </tr>\n",
       "    <tr>\n",
       "      <th>11</th>\n",
       "      <td>Blond</td>\n",
       "      <td>Hazel</td>\n",
       "      <td>Male</td>\n",
       "      <td>5</td>\n",
       "    </tr>\n",
       "    <tr>\n",
       "      <th>12</th>\n",
       "      <td>Black</td>\n",
       "      <td>Green</td>\n",
       "      <td>Male</td>\n",
       "      <td>3</td>\n",
       "    </tr>\n",
       "    <tr>\n",
       "      <th>13</th>\n",
       "      <td>Brown</td>\n",
       "      <td>Green</td>\n",
       "      <td>Male</td>\n",
       "      <td>15</td>\n",
       "    </tr>\n",
       "    <tr>\n",
       "      <th>14</th>\n",
       "      <td>Red</td>\n",
       "      <td>Green</td>\n",
       "      <td>Male</td>\n",
       "      <td>7</td>\n",
       "    </tr>\n",
       "  </tbody>\n",
       "</table>\n",
       "</div>"
      ],
      "text/plain": [
       "     Hair    Eye   Sex  Freq\n",
       "0   Black  Brown  Male    32\n",
       "1   Brown  Brown  Male    53\n",
       "2     Red  Brown  Male    10\n",
       "3   Blond  Brown  Male     3\n",
       "4   Black   Blue  Male    11\n",
       "5   Brown   Blue  Male    50\n",
       "6     Red   Blue  Male    10\n",
       "7   Blond   Blue  Male    30\n",
       "8   Black  Hazel  Male    10\n",
       "9   Brown  Hazel  Male    25\n",
       "10    Red  Hazel  Male     7\n",
       "11  Blond  Hazel  Male     5\n",
       "12  Black  Green  Male     3\n",
       "13  Brown  Green  Male    15\n",
       "14    Red  Green  Male     7"
      ]
     },
     "execution_count": 24,
     "metadata": {},
     "output_type": "execute_result"
    }
   ],
   "source": [
    "# print the first 15 rows in df\n",
    "df.head(15)"
   ]
  },
  {
   "cell_type": "code",
   "execution_count": 38,
   "metadata": {
    "collapsed": false
   },
   "outputs": [
    {
     "data": {
      "text/html": [
       "<div>\n",
       "<table border=\"1\" class=\"dataframe\">\n",
       "  <thead>\n",
       "    <tr style=\"text-align: right;\">\n",
       "      <th></th>\n",
       "      <th>Hair</th>\n",
       "      <th>Eye</th>\n",
       "      <th>Sex</th>\n",
       "      <th>Freq</th>\n",
       "    </tr>\n",
       "  </thead>\n",
       "  <tbody>\n",
       "    <tr>\n",
       "      <th>0</th>\n",
       "      <td>Black</td>\n",
       "      <td>Brown</td>\n",
       "      <td>Male</td>\n",
       "      <td>32</td>\n",
       "    </tr>\n",
       "    <tr>\n",
       "      <th>4</th>\n",
       "      <td>Black</td>\n",
       "      <td>Blue</td>\n",
       "      <td>Male</td>\n",
       "      <td>11</td>\n",
       "    </tr>\n",
       "    <tr>\n",
       "      <th>8</th>\n",
       "      <td>Black</td>\n",
       "      <td>Hazel</td>\n",
       "      <td>Male</td>\n",
       "      <td>10</td>\n",
       "    </tr>\n",
       "    <tr>\n",
       "      <th>12</th>\n",
       "      <td>Black</td>\n",
       "      <td>Green</td>\n",
       "      <td>Male</td>\n",
       "      <td>3</td>\n",
       "    </tr>\n",
       "    <tr>\n",
       "      <th>16</th>\n",
       "      <td>Black</td>\n",
       "      <td>Brown</td>\n",
       "      <td>Female</td>\n",
       "      <td>36</td>\n",
       "    </tr>\n",
       "    <tr>\n",
       "      <th>20</th>\n",
       "      <td>Black</td>\n",
       "      <td>Blue</td>\n",
       "      <td>Female</td>\n",
       "      <td>9</td>\n",
       "    </tr>\n",
       "    <tr>\n",
       "      <th>24</th>\n",
       "      <td>Black</td>\n",
       "      <td>Hazel</td>\n",
       "      <td>Female</td>\n",
       "      <td>5</td>\n",
       "    </tr>\n",
       "    <tr>\n",
       "      <th>28</th>\n",
       "      <td>Black</td>\n",
       "      <td>Green</td>\n",
       "      <td>Female</td>\n",
       "      <td>2</td>\n",
       "    </tr>\n",
       "  </tbody>\n",
       "</table>\n",
       "</div>"
      ],
      "text/plain": [
       "     Hair    Eye     Sex  Freq\n",
       "0   Black  Brown    Male    32\n",
       "4   Black   Blue    Male    11\n",
       "8   Black  Hazel    Male    10\n",
       "12  Black  Green    Male     3\n",
       "16  Black  Brown  Female    36\n",
       "20  Black   Blue  Female     9\n",
       "24  Black  Hazel  Female     5\n",
       "28  Black  Green  Female     2"
      ]
     },
     "execution_count": 38,
     "metadata": {},
     "output_type": "execute_result"
    }
   ],
   "source": [
    "# create a another dataframe called df1 that has the records of students with only black hair\n",
    "\n",
    "# call this dataframe df1\n",
    "\n",
    "\n",
    "df1=df[df['Hair'] == \"Black\"]\n",
    "df1"
   ]
  },
  {
   "cell_type": "code",
   "execution_count": 60,
   "metadata": {
    "collapsed": false
   },
   "outputs": [
    {
     "data": {
      "text/plain": [
       "32"
      ]
     },
     "execution_count": 60,
     "metadata": {},
     "output_type": "execute_result"
    }
   ],
   "source": [
    "# create a another dataframe called df2\n",
    "# df2 should have have records of students with black hair and brown eyes\n",
    "# HINT:, retransform df1!\n",
    "\n",
    "df2=df1[df1['Eye']=='Brown']\n",
    "df2\n",
    "\n",
    "\n",
    "# How many students have black eyes and brown hair? \n",
    "\n",
    "\n",
    "\n",
    "sum(df3['Freq'])\n",
    "\n",
    "# HINT: Once you have df2, you can do a sum operation on any column of df2, including Freq"
   ]
  },
  {
   "cell_type": "code",
   "execution_count": 47,
   "metadata": {
    "collapsed": false
   },
   "outputs": [
    {
     "data": {
      "text/html": [
       "<div>\n",
       "<table border=\"1\" class=\"dataframe\">\n",
       "  <thead>\n",
       "    <tr style=\"text-align: right;\">\n",
       "      <th></th>\n",
       "      <th>Hair</th>\n",
       "      <th>Eye</th>\n",
       "      <th>Sex</th>\n",
       "      <th>Freq</th>\n",
       "    </tr>\n",
       "  </thead>\n",
       "  <tbody>\n",
       "    <tr>\n",
       "      <th>0</th>\n",
       "      <td>Black</td>\n",
       "      <td>Brown</td>\n",
       "      <td>Male</td>\n",
       "      <td>32</td>\n",
       "    </tr>\n",
       "  </tbody>\n",
       "</table>\n",
       "</div>"
      ],
      "text/plain": [
       "    Hair    Eye   Sex  Freq\n",
       "0  Black  Brown  Male    32"
      ]
     },
     "execution_count": 47,
     "metadata": {},
     "output_type": "execute_result"
    }
   ],
   "source": [
    "# create a another dataframe called df3\n",
    "# df3 should have have records of male students with black hair and brown eyes\n",
    "# HINT:, retransform df2!\n",
    "df3=df2[df2['Sex']=='Male']\n",
    "df3\n",
    "\n",
    "# How many blackeyed, brown hair, male students are in the class? "
   ]
  },
  {
   "cell_type": "code",
   "execution_count": 62,
   "metadata": {
    "collapsed": false
   },
   "outputs": [
    {
     "data": {
      "text/html": [
       "<div>\n",
       "<table border=\"1\" class=\"dataframe\">\n",
       "  <thead>\n",
       "    <tr style=\"text-align: right;\">\n",
       "      <th></th>\n",
       "      <th>Hair</th>\n",
       "      <th>Eye</th>\n",
       "      <th>Sex</th>\n",
       "      <th>Freq</th>\n",
       "    </tr>\n",
       "  </thead>\n",
       "  <tbody>\n",
       "    <tr>\n",
       "      <th>0</th>\n",
       "      <td>Black</td>\n",
       "      <td>Brown</td>\n",
       "      <td>Male</td>\n",
       "      <td>32</td>\n",
       "    </tr>\n",
       "  </tbody>\n",
       "</table>\n",
       "</div>"
      ],
      "text/plain": [
       "    Hair    Eye   Sex  Freq\n",
       "0  Black  Brown  Male    32"
      ]
     },
     "execution_count": 62,
     "metadata": {},
     "output_type": "execute_result"
    }
   ],
   "source": [
    "# create a another dataFrame called df4, that only filters df (NOT df1,df2,df3)\n",
    "# to get the total number of male students with black hair, brown eyes.\n",
    "# HINT: df4 = df[ (df.column1 == someVal1) & ..... & (df.columnN == someValN) ]\n",
    "# You can put multiple conditions in a dataframe by enclosing each condition in parenthesis,\n",
    "# and separating each consecutive condition with a '&' symbol.\n",
    "\n",
    "# One you have d4, print the total number of male students with black hair, brown eyes\n",
    "#df4= df[(df['Hair']=='Blakc')&(df['Eye']=='Brown')&(df['Sex']=='Male')]\n",
    "#df4\n",
    "df4=df[(df['Hair']=='Black') & (df['Eye'] == \"Brown\")& (df['Sex'] == \"Male\")]\n",
    "df4"
   ]
  },
  {
   "cell_type": "code",
   "execution_count": 78,
   "metadata": {
    "collapsed": false
   },
   "outputs": [
    {
     "data": {
      "text/plain": [
       "Hair   Eye    Sex   \n",
       "Black  Blue   Female     9\n",
       "              Male      11\n",
       "       Brown  Female    36\n",
       "              Male      32\n",
       "       Green  Female     2\n",
       "              Male       3\n",
       "       Hazel  Female     5\n",
       "              Male      10\n",
       "Blond  Blue   Female    64\n",
       "              Male      30\n",
       "       Brown  Female     4\n",
       "              Male       3\n",
       "       Green  Female     8\n",
       "              Male       8\n",
       "       Hazel  Female     5\n",
       "              Male       5\n",
       "Brown  Blue   Female    34\n",
       "              Male      50\n",
       "       Brown  Female    66\n",
       "              Male      53\n",
       "       Green  Female    14\n",
       "              Male      15\n",
       "       Hazel  Female    29\n",
       "              Male      25\n",
       "Red    Blue   Female     7\n",
       "              Male      10\n",
       "       Brown  Female    16\n",
       "              Male      10\n",
       "       Green  Female     7\n",
       "              Male       7\n",
       "       Hazel  Female     7\n",
       "              Male       7\n",
       "dtype: int64"
      ]
     },
     "execution_count": 78,
     "metadata": {},
     "output_type": "execute_result"
    }
   ],
   "source": [
    "# Answer the above question with a groupby and and a apply afterwards (using df)\n",
    "# HINT: df.groupby( listOfColumnssToGroupBy ).apply(someFunctionThatWillSumFreq)\n",
    "\n",
    "#df.groupby(columnNames[1:-1]).sum()\n",
    "\n",
    "dfGroupBy=df.groupby(['Hair','Eye','Sex']).apply(\n",
    "    lambda group: sum(group['Freq'])\n",
    ")\n",
    "dfGroupBy"
   ]
  },
  {
   "cell_type": "code",
   "execution_count": 80,
   "metadata": {
    "collapsed": false
   },
   "outputs": [
    {
     "name": "stdout",
     "output_type": "stream",
     "text": [
      "0     1\n",
      "1     1\n",
      "2     1\n",
      "3     1\n",
      "4     1\n",
      "5     1\n",
      "6     1\n",
      "7     1\n",
      "8     1\n",
      "9     1\n",
      "10    1\n",
      "11    1\n",
      "12    1\n",
      "13    1\n",
      "14    1\n",
      "15    1\n",
      "16    0\n",
      "17    0\n",
      "18    0\n",
      "19    0\n",
      "20    0\n",
      "21    0\n",
      "22    0\n",
      "23    0\n",
      "24    0\n",
      "25    0\n",
      "26    0\n",
      "27    0\n",
      "28    0\n",
      "29    0\n",
      "Name: Sex, dtype: int64\n"
     ]
    }
   ],
   "source": [
    "# using df (NOT df1,df2,df3,df4), replace all males with integer value of 1, \n",
    "# and all females to integer value of 0,\n",
    "# replace the Sex Column with new Column, keep the same name 'Sex'\n",
    "# hint. df['newCol'] = df.someColumn.apply(someFunction)\n",
    "# print the first 20 rows of the new Column\n",
    "def binGender(gender):\n",
    "    if gender=='Male':\n",
    "        return 1\n",
    "    return 0\n",
    "\n",
    "df['Sex']=df.Sex.apply(binGender)\n",
    "print df.Sex.head(30)"
   ]
  },
  {
   "cell_type": "code",
   "execution_count": 17,
   "metadata": {
    "collapsed": false
   },
   "outputs": [],
   "source": [
    "# using df (NOT df1,df2,df3,df4) create a new column called FreqPercent \n",
    "# FreqPercent will be the correspinding percentage of students \n",
    "# with those students attributes for that record\n",
    "# HINT: someColumn = df.someColumn\n",
    "# sumOfColumn = sum( someColumn )\n",
    "# df['FreqPercent'] = someColumn.apply(someFunctionToGetFreqPercent)\n",
    "# print the first 20 rows of this new column\n"
   ]
  },
  {
   "cell_type": "code",
   "execution_count": 18,
   "metadata": {
    "collapsed": false
   },
   "outputs": [],
   "source": [
    "# Ensure that the sum of all FreqPercent (our new column in df) is 100%"
   ]
  },
  {
   "cell_type": "code",
   "execution_count": null,
   "metadata": {
    "collapsed": true
   },
   "outputs": [],
   "source": []
  }
 ],
 "metadata": {
  "kernelspec": {
   "display_name": "Python 2",
   "language": "python",
   "name": "python2"
  },
  "language_info": {
   "codemirror_mode": {
    "name": "ipython",
    "version": 2
   },
   "file_extension": ".py",
   "mimetype": "text/x-python",
   "name": "python",
   "nbconvert_exporter": "python",
   "pygments_lexer": "ipython2",
   "version": "2.7.11"
  }
 },
 "nbformat": 4,
 "nbformat_minor": 0
}
